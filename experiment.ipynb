{
 "cells": [
  {
   "cell_type": "code",
   "execution_count": 1,
   "metadata": {},
   "outputs": [
    {
     "name": "stderr",
     "output_type": "stream",
     "text": [
      "2023-11-16 16:11:26.817248: I tensorflow/core/platform/cpu_feature_guard.cc:193] This TensorFlow binary is optimized with oneAPI Deep Neural Network Library (oneDNN) to use the following CPU instructions in performance-critical operations:  AVX2 AVX512F AVX512_VNNI FMA\n",
      "To enable them in other operations, rebuild TensorFlow with the appropriate compiler flags.\n",
      "2023-11-16 16:11:26.969198: I tensorflow/core/util/util.cc:169] oneDNN custom operations are on. You may see slightly different numerical results due to floating-point round-off errors from different computation orders. To turn them off, set the environment variable `TF_ENABLE_ONEDNN_OPTS=0`.\n",
      "2023-11-16 16:11:27.015120: E tensorflow/stream_executor/cuda/cuda_blas.cc:2981] Unable to register cuBLAS factory: Attempting to register factory for plugin cuBLAS when one has already been registered\n",
      "2023-11-16 16:11:27.653513: W tensorflow/stream_executor/platform/default/dso_loader.cc:64] Could not load dynamic library 'libnvinfer.so.7'; dlerror: libnvinfer.so.7: cannot open shared object file: No such file or directory; LD_LIBRARY_PATH: /usr/local/cuda-11.5/lib64/\n",
      "2023-11-16 16:11:27.653617: W tensorflow/stream_executor/platform/default/dso_loader.cc:64] Could not load dynamic library 'libnvinfer_plugin.so.7'; dlerror: libnvinfer_plugin.so.7: cannot open shared object file: No such file or directory; LD_LIBRARY_PATH: /usr/local/cuda-11.5/lib64/\n",
      "2023-11-16 16:11:27.653624: W tensorflow/compiler/tf2tensorrt/utils/py_utils.cc:38] TF-TRT Warning: Cannot dlopen some TensorRT libraries. If you would like to use Nvidia GPU with TensorRT, please make sure the missing libraries mentioned above are installed properly.\n"
     ]
    }
   ],
   "source": [
    "from src.experiment import ExperimentLauncher"
   ]
  },
  {
   "cell_type": "code",
   "execution_count": 6,
   "metadata": {
    "scrolled": true,
    "tags": []
   },
   "outputs": [
    {
     "name": "stdout",
     "output_type": "stream",
     "text": [
      "{'dataset': {'name': 'torneo', 'params': {'seq_len': 24, 'pred_len': 24, 'shift': 24, 'crossval': False}}, 'selection': {'name': 'NoSelection', 'params': None}, 'model': {'name': 'dense', 'params': {'keep_dims': False, 'layers': 2, 'units': 24, 'dropout': 0.2, 'batch_size': 128, 'lr': 0.001, 'type': 'tensorflow'}}}\n",
      "Skipping {'dataset': {'name': 'torneo', 'params': {'seq_len': 24, 'pred_len': 24, 'shift': 24, 'crossval': False}}, 'selection': {'name': 'NoSelection', 'params': None}, 'model': {'name': 'dense', 'params': {'keep_dims': False, 'layers': 2, 'units': 24, 'dropout': 0.2, 'batch_size': 128, 'lr': 0.001, 'type': 'tensorflow'}}}\n",
      "{'dataset': {'name': 'torneo', 'params': {'seq_len': 24, 'pred_len': 24, 'shift': 24, 'crossval': False}}, 'selection': {'name': 'NoSelection', 'params': None}, 'model': {'name': 'dense', 'params': {'keep_dims': False, 'layers': 2, 'units': 72, 'dropout': 0.2, 'batch_size': 128, 'lr': 0.001, 'type': 'tensorflow'}}}\n",
      "Skipping {'dataset': {'name': 'torneo', 'params': {'seq_len': 24, 'pred_len': 24, 'shift': 24, 'crossval': False}}, 'selection': {'name': 'NoSelection', 'params': None}, 'model': {'name': 'dense', 'params': {'keep_dims': False, 'layers': 2, 'units': 72, 'dropout': 0.2, 'batch_size': 128, 'lr': 0.001, 'type': 'tensorflow'}}}\n",
      "{'dataset': {'name': 'torneo', 'params': {'seq_len': 24, 'pred_len': 24, 'shift': 24, 'crossval': False}}, 'selection': {'name': 'NoSelection', 'params': None}, 'model': {'name': 'dense', 'params': {'keep_dims': False, 'layers': 3, 'units': 24, 'dropout': 0.2, 'batch_size': 128, 'lr': 0.001, 'type': 'tensorflow'}}}\n",
      "Skipping {'dataset': {'name': 'torneo', 'params': {'seq_len': 24, 'pred_len': 24, 'shift': 24, 'crossval': False}}, 'selection': {'name': 'NoSelection', 'params': None}, 'model': {'name': 'dense', 'params': {'keep_dims': False, 'layers': 3, 'units': 24, 'dropout': 0.2, 'batch_size': 128, 'lr': 0.001, 'type': 'tensorflow'}}}\n",
      "{'dataset': {'name': 'torneo', 'params': {'seq_len': 24, 'pred_len': 24, 'shift': 24, 'crossval': False}}, 'selection': {'name': 'NoSelection', 'params': None}, 'model': {'name': 'dense', 'params': {'keep_dims': False, 'layers': 3, 'units': 72, 'dropout': 0.2, 'batch_size': 128, 'lr': 0.001, 'type': 'tensorflow'}}}\n",
      "Skipping {'dataset': {'name': 'torneo', 'params': {'seq_len': 24, 'pred_len': 24, 'shift': 24, 'crossval': False}}, 'selection': {'name': 'NoSelection', 'params': None}, 'model': {'name': 'dense', 'params': {'keep_dims': False, 'layers': 3, 'units': 72, 'dropout': 0.2, 'batch_size': 128, 'lr': 0.001, 'type': 'tensorflow'}}}\n",
      "{'dataset': {'name': 'torneo', 'params': {'seq_len': 48, 'pred_len': 24, 'shift': 24, 'crossval': False}}, 'selection': {'name': 'NoSelection', 'params': None}, 'model': {'name': 'dense', 'params': {'keep_dims': False, 'layers': 2, 'units': 24, 'dropout': 0.2, 'batch_size': 128, 'lr': 0.001, 'type': 'tensorflow'}}}\n",
      "Skipping {'dataset': {'name': 'torneo', 'params': {'seq_len': 48, 'pred_len': 24, 'shift': 24, 'crossval': False}}, 'selection': {'name': 'NoSelection', 'params': None}, 'model': {'name': 'dense', 'params': {'keep_dims': False, 'layers': 2, 'units': 24, 'dropout': 0.2, 'batch_size': 128, 'lr': 0.001, 'type': 'tensorflow'}}}\n",
      "{'dataset': {'name': 'torneo', 'params': {'seq_len': 48, 'pred_len': 24, 'shift': 24, 'crossval': False}}, 'selection': {'name': 'NoSelection', 'params': None}, 'model': {'name': 'dense', 'params': {'keep_dims': False, 'layers': 2, 'units': 72, 'dropout': 0.2, 'batch_size': 128, 'lr': 0.001, 'type': 'tensorflow'}}}\n",
      "Skipping {'dataset': {'name': 'torneo', 'params': {'seq_len': 48, 'pred_len': 24, 'shift': 24, 'crossval': False}}, 'selection': {'name': 'NoSelection', 'params': None}, 'model': {'name': 'dense', 'params': {'keep_dims': False, 'layers': 2, 'units': 72, 'dropout': 0.2, 'batch_size': 128, 'lr': 0.001, 'type': 'tensorflow'}}}\n",
      "{'dataset': {'name': 'torneo', 'params': {'seq_len': 48, 'pred_len': 24, 'shift': 24, 'crossval': False}}, 'selection': {'name': 'NoSelection', 'params': None}, 'model': {'name': 'dense', 'params': {'keep_dims': False, 'layers': 3, 'units': 24, 'dropout': 0.2, 'batch_size': 128, 'lr': 0.001, 'type': 'tensorflow'}}}\n",
      "Skipping {'dataset': {'name': 'torneo', 'params': {'seq_len': 48, 'pred_len': 24, 'shift': 24, 'crossval': False}}, 'selection': {'name': 'NoSelection', 'params': None}, 'model': {'name': 'dense', 'params': {'keep_dims': False, 'layers': 3, 'units': 24, 'dropout': 0.2, 'batch_size': 128, 'lr': 0.001, 'type': 'tensorflow'}}}\n",
      "{'dataset': {'name': 'torneo', 'params': {'seq_len': 48, 'pred_len': 24, 'shift': 24, 'crossval': False}}, 'selection': {'name': 'NoSelection', 'params': None}, 'model': {'name': 'dense', 'params': {'keep_dims': False, 'layers': 3, 'units': 72, 'dropout': 0.2, 'batch_size': 128, 'lr': 0.001, 'type': 'tensorflow'}}}\n",
      "Skipping {'dataset': {'name': 'torneo', 'params': {'seq_len': 48, 'pred_len': 24, 'shift': 24, 'crossval': False}}, 'selection': {'name': 'NoSelection', 'params': None}, 'model': {'name': 'dense', 'params': {'keep_dims': False, 'layers': 3, 'units': 72, 'dropout': 0.2, 'batch_size': 128, 'lr': 0.001, 'type': 'tensorflow'}}}\n",
      "{'dataset': {'name': 'torneo', 'params': {'seq_len': 72, 'pred_len': 24, 'shift': 24, 'crossval': False}}, 'selection': {'name': 'NoSelection', 'params': None}, 'model': {'name': 'dense', 'params': {'keep_dims': False, 'layers': 2, 'units': 24, 'dropout': 0.2, 'batch_size': 128, 'lr': 0.001, 'type': 'tensorflow'}}}\n",
      "Skipping {'dataset': {'name': 'torneo', 'params': {'seq_len': 72, 'pred_len': 24, 'shift': 24, 'crossval': False}}, 'selection': {'name': 'NoSelection', 'params': None}, 'model': {'name': 'dense', 'params': {'keep_dims': False, 'layers': 2, 'units': 24, 'dropout': 0.2, 'batch_size': 128, 'lr': 0.001, 'type': 'tensorflow'}}}\n",
      "{'dataset': {'name': 'torneo', 'params': {'seq_len': 72, 'pred_len': 24, 'shift': 24, 'crossval': False}}, 'selection': {'name': 'NoSelection', 'params': None}, 'model': {'name': 'dense', 'params': {'keep_dims': False, 'layers': 2, 'units': 72, 'dropout': 0.2, 'batch_size': 128, 'lr': 0.001, 'type': 'tensorflow'}}}\n",
      "Skipping {'dataset': {'name': 'torneo', 'params': {'seq_len': 72, 'pred_len': 24, 'shift': 24, 'crossval': False}}, 'selection': {'name': 'NoSelection', 'params': None}, 'model': {'name': 'dense', 'params': {'keep_dims': False, 'layers': 2, 'units': 72, 'dropout': 0.2, 'batch_size': 128, 'lr': 0.001, 'type': 'tensorflow'}}}\n",
      "{'dataset': {'name': 'torneo', 'params': {'seq_len': 72, 'pred_len': 24, 'shift': 24, 'crossval': False}}, 'selection': {'name': 'NoSelection', 'params': None}, 'model': {'name': 'dense', 'params': {'keep_dims': False, 'layers': 3, 'units': 24, 'dropout': 0.2, 'batch_size': 128, 'lr': 0.001, 'type': 'tensorflow'}}}\n",
      "Skipping {'dataset': {'name': 'torneo', 'params': {'seq_len': 72, 'pred_len': 24, 'shift': 24, 'crossval': False}}, 'selection': {'name': 'NoSelection', 'params': None}, 'model': {'name': 'dense', 'params': {'keep_dims': False, 'layers': 3, 'units': 24, 'dropout': 0.2, 'batch_size': 128, 'lr': 0.001, 'type': 'tensorflow'}}}\n",
      "{'dataset': {'name': 'torneo', 'params': {'seq_len': 72, 'pred_len': 24, 'shift': 24, 'crossval': False}}, 'selection': {'name': 'NoSelection', 'params': None}, 'model': {'name': 'dense', 'params': {'keep_dims': False, 'layers': 3, 'units': 72, 'dropout': 0.2, 'batch_size': 128, 'lr': 0.001, 'type': 'tensorflow'}}}\n",
      "Skipping {'dataset': {'name': 'torneo', 'params': {'seq_len': 72, 'pred_len': 24, 'shift': 24, 'crossval': False}}, 'selection': {'name': 'NoSelection', 'params': None}, 'model': {'name': 'dense', 'params': {'keep_dims': False, 'layers': 3, 'units': 72, 'dropout': 0.2, 'batch_size': 128, 'lr': 0.001, 'type': 'tensorflow'}}}\n",
      "{'dataset': {'name': 'torneo', 'params': {'seq_len': 24, 'pred_len': 24, 'shift': 24, 'crossval': False}}, 'selection': {'name': 'NoSelection', 'params': None}, 'model': {'name': 'gradientboosting', 'params': {'max_depth': 3, 'n_estimators': 50, 'batch_size': 128, 'type': 'sklearn'}}}\n"
     ]
    },
    {
     "ename": "AttributeError",
     "evalue": "'list' object has no attribute 'batch'",
     "output_type": "error",
     "traceback": [
      "\u001b[0;31m---------------------------------------------------------------------------\u001b[0m",
      "\u001b[0;31mAttributeError\u001b[0m                            Traceback (most recent call last)",
      "\u001b[1;32m/mnt/hd/TSLayer/experiment.ipynb Cell 2\u001b[0m line \u001b[0;36m4\n\u001b[1;32m      <a href='vscode-notebook-cell://ssh-remote%2B7b22686f73744e616d65223a22414d415a4f4e41227d/mnt/hd/TSLayer/experiment.ipynb#W1sdnNjb2RlLXJlbW90ZQ%3D%3D?line=1'>2</a>\u001b[0m \u001b[39m# experiment_launcher = ExperimentLauncher(config_path, save_file='results/pruebas/results_nn_optimizing_bs_and_lr.csv', search_type='bayesian', iterations=25)\u001b[39;00m\n\u001b[1;32m      <a href='vscode-notebook-cell://ssh-remote%2B7b22686f73744e616d65223a22414d415a4f4e41227d/mnt/hd/TSLayer/experiment.ipynb#W1sdnNjb2RlLXJlbW90ZQ%3D%3D?line=2'>3</a>\u001b[0m experiment_launcher \u001b[39m=\u001b[39m ExperimentLauncher(config_path, save_file\u001b[39m=\u001b[39m\u001b[39m'\u001b[39m\u001b[39mresults/pruebas/results_nn_optimizing_bs_and_lr.csv\u001b[39m\u001b[39m'\u001b[39m, search_type\u001b[39m=\u001b[39m\u001b[39m'\u001b[39m\u001b[39mgrid\u001b[39m\u001b[39m'\u001b[39m)\n\u001b[0;32m----> <a href='vscode-notebook-cell://ssh-remote%2B7b22686f73744e616d65223a22414d415a4f4e41227d/mnt/hd/TSLayer/experiment.ipynb#W1sdnNjb2RlLXJlbW90ZQ%3D%3D?line=3'>4</a>\u001b[0m experiment_launcher\u001b[39m.\u001b[39;49mrun()\n",
      "File \u001b[0;32m/mnt/hd/TSLayer/src/experiment.py:501\u001b[0m, in \u001b[0;36mExperimentLauncher.run\u001b[0;34m(self)\u001b[0m\n\u001b[1;32m    498\u001b[0m         \u001b[39mself\u001b[39m\u001b[39m.\u001b[39moptimizer\u001b[39m.\u001b[39mregister(params\u001b[39m=\u001b[39mparams, target\u001b[39m=\u001b[39m\u001b[39m-\u001b[39m\u001b[39mself\u001b[39m\u001b[39m.\u001b[39mmetrics\u001b[39m.\u001b[39mloc[\u001b[39mself\u001b[39m\u001b[39m.\u001b[39mmetrics\u001b[39m.\u001b[39mcode \u001b[39m==\u001b[39m experiment\u001b[39m.\u001b[39mcode,\u001b[39m'\u001b[39m\u001b[39mroot_mean_squared_error_valid\u001b[39m\u001b[39m'\u001b[39m]\u001b[39m.\u001b[39mmean())\n\u001b[1;32m    499\u001b[0m     \u001b[39mcontinue\u001b[39;00m\n\u001b[0;32m--> 501\u001b[0m metrics \u001b[39m=\u001b[39m experiment\u001b[39m.\u001b[39;49mrun()\n\u001b[1;32m    503\u001b[0m \u001b[39mif\u001b[39;00m \u001b[39mself\u001b[39m\u001b[39m.\u001b[39moptimizer \u001b[39m==\u001b[39m \u001b[39m'\u001b[39m\u001b[39mbayesian\u001b[39m\u001b[39m'\u001b[39m:\n\u001b[1;32m    504\u001b[0m     \u001b[39mself\u001b[39m\u001b[39m.\u001b[39moptimizer\u001b[39m.\u001b[39mregister(params\u001b[39m=\u001b[39mparams, target\u001b[39m=\u001b[39m\u001b[39m-\u001b[39mmetrics[\u001b[39m'\u001b[39m\u001b[39mroot_mean_squared_error_valid\u001b[39m\u001b[39m'\u001b[39m]\u001b[39m.\u001b[39mmean())\n",
      "File \u001b[0;32m/mnt/hd/TSLayer/src/experiment.py:294\u001b[0m, in \u001b[0;36mExperimentInstance.run\u001b[0;34m(self)\u001b[0m\n\u001b[1;32m    292\u001b[0m         \u001b[39mself\u001b[39m\u001b[39m.\u001b[39mraw_results_\u001b[39m.\u001b[39mappend((dates, inputs, true, predictions))\n\u001b[1;32m    293\u001b[0m \u001b[39melse\u001b[39;00m:\n\u001b[0;32m--> 294\u001b[0m     \u001b[39mself\u001b[39m\u001b[39m.\u001b[39mmetrics, inputs, true, predictions \u001b[39m=\u001b[39m \u001b[39mself\u001b[39;49m\u001b[39m.\u001b[39;49mexecute_one() \n\u001b[1;32m    295\u001b[0m     \u001b[39m#dates = pd.date_range(datetime(test_year, 1, 1) + timedelta(hours=25), datetime(test_year, 12, 31), freq='H')\u001b[39;00m\n\u001b[1;32m    296\u001b[0m     \u001b[39m#dates = dates[:len(true)]\u001b[39;00m\n\u001b[1;32m    297\u001b[0m     \u001b[39mself\u001b[39m\u001b[39m.\u001b[39mraw_results_\u001b[39m.\u001b[39mappend((inputs, true, predictions))\n",
      "File \u001b[0;32m/mnt/hd/TSLayer/src/experiment.py:257\u001b[0m, in \u001b[0;36mExperimentInstance.execute_one\u001b[0;34m(self)\u001b[0m\n\u001b[1;32m    250\u001b[0m \u001b[39mdef\u001b[39;00m \u001b[39mexecute_one\u001b[39m(\u001b[39mself\u001b[39m) \u001b[39m-\u001b[39m\u001b[39m>\u001b[39m Tuple[pd\u001b[39m.\u001b[39mDataFrame, tf\u001b[39m.\u001b[39mTensor, tf\u001b[39m.\u001b[39mTensor, tf\u001b[39m.\u001b[39mTensor]:\n\u001b[1;32m    251\u001b[0m \u001b[39m    \u001b[39m\u001b[39m\"\"\"\u001b[39;00m\n\u001b[1;32m    252\u001b[0m \u001b[39m    Execute a single experiment instance.\u001b[39;00m\n\u001b[1;32m    253\u001b[0m \n\u001b[1;32m    254\u001b[0m \u001b[39m    Returns:\u001b[39;00m\n\u001b[1;32m    255\u001b[0m \u001b[39m        Tuple[pd.DataFrame, tf.Tensor, tf.Tensor, tf.Tensor]: Metrics DataFrame, test data inputs, true values, and predictions.\u001b[39;00m\n\u001b[1;32m    256\u001b[0m \u001b[39m    \"\"\"\u001b[39;00m\n\u001b[0;32m--> 257\u001b[0m     data_train, data_valid, data_test \u001b[39m=\u001b[39m \u001b[39mself\u001b[39;49m\u001b[39m.\u001b[39;49mpreprocess_data()\n\u001b[1;32m    259\u001b[0m     model \u001b[39m=\u001b[39m get_model(\u001b[39mself\u001b[39m\u001b[39m.\u001b[39mparameters, \u001b[39mself\u001b[39m\u001b[39m.\u001b[39mlabel_idxs, \u001b[39mself\u001b[39m\u001b[39m.\u001b[39mvalues_idxs)\n\u001b[1;32m    261\u001b[0m     start \u001b[39m=\u001b[39m time\u001b[39m.\u001b[39mtime()\n",
      "File \u001b[0;32m/mnt/hd/TSLayer/src/experiment.py:86\u001b[0m, in \u001b[0;36mExperimentInstance.preprocess_data\u001b[0;34m(self)\u001b[0m\n\u001b[1;32m     82\u001b[0m \u001b[39mself\u001b[39m\u001b[39m.\u001b[39mselected_idxs \u001b[39m=\u001b[39m select_features(train_scaled, \u001b[39mself\u001b[39m\u001b[39m.\u001b[39mparameters, \u001b[39mself\u001b[39m\u001b[39m.\u001b[39mlabel_idxs)\n\u001b[1;32m     84\u001b[0m data_train, data_valid, data_test \u001b[39m=\u001b[39m windowing(train_scaled, valid_scaled, test_scaled, \u001b[39mself\u001b[39m\u001b[39m.\u001b[39mvalues_idxs, \u001b[39mself\u001b[39m\u001b[39m.\u001b[39mlabel_idxs, \u001b[39mself\u001b[39m\u001b[39m.\u001b[39mselected_idxs, \u001b[39mself\u001b[39m\u001b[39m.\u001b[39mparameters)\n\u001b[0;32m---> 86\u001b[0m \u001b[39mself\u001b[39m\u001b[39m.\u001b[39mdata_train \u001b[39m=\u001b[39m np\u001b[39m.\u001b[39mconcatenate(\u001b[39mlist\u001b[39m(\u001b[39mmap\u001b[39m(\u001b[39mlambda\u001b[39;00m x: x\u001b[39m.\u001b[39mnumpy(), \u001b[39mnext\u001b[39m(data_train\u001b[39m.\u001b[39;49mbatch(\u001b[39m9999999999\u001b[39m)\u001b[39m.\u001b[39m\u001b[39m__iter__\u001b[39m())))[\u001b[39m0\u001b[39m])\n\u001b[1;32m     88\u001b[0m \u001b[39mreturn\u001b[39;00m data_train, data_valid, data_test\n",
      "\u001b[0;31mAttributeError\u001b[0m: 'list' object has no attribute 'batch'"
     ]
    }
   ],
   "source": [
    "config_path = 'configuration/pruebas/'\n",
    "# experiment_launcher = ExperimentLauncher(config_path, save_file='results/pruebas/results_nn_optimizing_bs_and_lr.csv', search_type='bayesian', iterations=25)\n",
    "experiment_launcher = ExperimentLauncher(config_path, save_file='results/pruebas/results_nn_optimizing_bs_and_lr.csv', search_type='grid')\n",
    "experiment_launcher.run()"
   ]
  },
  {
   "cell_type": "code",
   "execution_count": 3,
   "metadata": {
    "scrolled": true,
    "tags": []
   },
   "outputs": [
    {
     "data": {
      "text/plain": [
       "\"config_path_residual = 'configuration/OzoneCrossvalRes/'\\nexperiment_launcher_residual = ExperimentLauncher(config_path_residual, save_file='results/OzoneCrossVal/results_final.csv', search_type='bayesian', iterations=25)\\nexperiment_launcher_residual.run()        \""
      ]
     },
     "execution_count": 3,
     "metadata": {},
     "output_type": "execute_result"
    }
   ],
   "source": [
    "\"\"\"config_path_residual = 'configuration/OzoneCrossvalRes/'\n",
    "experiment_launcher_residual = ExperimentLauncher(config_path_residual, save_file='results/OzoneCrossVal/results_final.csv', search_type='bayesian', iterations=25)\n",
    "experiment_launcher_residual.run()        \"\"\"           "
   ]
  },
  {
   "cell_type": "code",
   "execution_count": null,
   "metadata": {},
   "outputs": [],
   "source": []
  }
 ],
 "metadata": {
  "kernelspec": {
   "display_name": "Python 3 (ipykernel)",
   "language": "python",
   "name": "python3"
  },
  "language_info": {
   "codemirror_mode": {
    "name": "ipython",
    "version": 3
   },
   "file_extension": ".py",
   "mimetype": "text/x-python",
   "name": "python",
   "nbconvert_exporter": "python",
   "pygments_lexer": "ipython3",
   "version": "3.10.12"
  },
  "vscode": {
   "interpreter": {
    "hash": "22807ea436e6cdae465455f971bf54617413f450d50428723b8098b2ed287910"
   }
  }
 },
 "nbformat": 4,
 "nbformat_minor": 4
}
