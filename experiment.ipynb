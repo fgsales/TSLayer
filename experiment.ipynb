{
 "cells": [
  {
   "cell_type": "code",
   "execution_count": 1,
   "metadata": {},
   "outputs": [],
   "source": [
    "from src.experiment import ExperimentLauncher"
   ]
  },
  {
   "cell_type": "code",
   "execution_count": 2,
   "metadata": {},
   "outputs": [],
   "source": [
    "config_path = 'configuration/OzoneCrossval/'\n",
    "experiment_launcher = ExperimentLauncher(config_path, save_file='results/OzoneCrossVal/results.csv', search_type='bayesian', iterations=10)"
   ]
  },
  {
   "cell_type": "code",
   "execution_count": 3,
   "metadata": {},
   "outputs": [
    {
     "name": "stdout",
     "output_type": "stream",
     "text": [
      "{'dataset': {'name': 'aljarafe', 'params': {'seq_len': 58, 'pred_len': 24, 'shift': 24, 'select_timesteps': True, 'crossval': True}}, 'selection': {'name': 'NoSelection', 'params': None}, 'model': {'name': 'decisiontree', 'params': {'keep_dims': False, 'max_depth': 14, 'type': 'sklearn'}}}\n",
      "Skipping {'dataset': {'name': 'aljarafe', 'params': {'seq_len': 58, 'pred_len': 24, 'shift': 24, 'select_timesteps': True, 'crossval': True}}, 'selection': {'name': 'NoSelection', 'params': None}, 'model': {'name': 'decisiontree', 'params': {'keep_dims': False, 'max_depth': 14, 'type': 'sklearn'}}}\n",
      "{'dataset': {'name': 'aljarafe', 'params': {'seq_len': 38, 'pred_len': 24, 'shift': 24, 'select_timesteps': True, 'crossval': True}}, 'selection': {'name': 'NoSelection', 'params': None}, 'model': {'name': 'decisiontree', 'params': {'keep_dims': False, 'max_depth': 2, 'type': 'sklearn'}}}\n",
      "Skipping {'dataset': {'name': 'aljarafe', 'params': {'seq_len': 38, 'pred_len': 24, 'shift': 24, 'select_timesteps': True, 'crossval': True}}, 'selection': {'name': 'NoSelection', 'params': None}, 'model': {'name': 'decisiontree', 'params': {'keep_dims': False, 'max_depth': 2, 'type': 'sklearn'}}}\n",
      "{'dataset': {'name': 'aljarafe', 'params': {'seq_len': 28, 'pred_len': 24, 'shift': 24, 'select_timesteps': True, 'crossval': True}}, 'selection': {'name': 'NoSelection', 'params': None}, 'model': {'name': 'decisiontree', 'params': {'keep_dims': False, 'max_depth': 6, 'type': 'sklearn'}}}\n",
      "Skipping {'dataset': {'name': 'aljarafe', 'params': {'seq_len': 28, 'pred_len': 24, 'shift': 24, 'select_timesteps': True, 'crossval': True}}, 'selection': {'name': 'NoSelection', 'params': None}, 'model': {'name': 'decisiontree', 'params': {'keep_dims': False, 'max_depth': 6, 'type': 'sklearn'}}}\n",
      "{'dataset': {'name': 'aljarafe', 'params': {'seq_len': 40, 'pred_len': 24, 'shift': 24, 'select_timesteps': True, 'crossval': True}}, 'selection': {'name': 'NoSelection', 'params': None}, 'model': {'name': 'decisiontree', 'params': {'keep_dims': False, 'max_depth': 7, 'type': 'sklearn'}}}\n",
      "Skipping {'dataset': {'name': 'aljarafe', 'params': {'seq_len': 40, 'pred_len': 24, 'shift': 24, 'select_timesteps': True, 'crossval': True}}, 'selection': {'name': 'NoSelection', 'params': None}, 'model': {'name': 'decisiontree', 'params': {'keep_dims': False, 'max_depth': 7, 'type': 'sklearn'}}}\n",
      "{'dataset': {'name': 'aljarafe', 'params': {'seq_len': 49, 'pred_len': 24, 'shift': 24, 'select_timesteps': True, 'crossval': True}}, 'selection': {'name': 'NoSelection', 'params': None}, 'model': {'name': 'decisiontree', 'params': {'keep_dims': False, 'max_depth': 13, 'type': 'sklearn'}}}\n",
      "Skipping {'dataset': {'name': 'aljarafe', 'params': {'seq_len': 49, 'pred_len': 24, 'shift': 24, 'select_timesteps': True, 'crossval': True}}, 'selection': {'name': 'NoSelection', 'params': None}, 'model': {'name': 'decisiontree', 'params': {'keep_dims': False, 'max_depth': 13, 'type': 'sklearn'}}}\n",
      "{'dataset': {'name': 'aljarafe', 'params': {'seq_len': 56, 'pred_len': 24, 'shift': 24, 'select_timesteps': True, 'crossval': True}}, 'selection': {'name': 'NoSelection', 'params': None}, 'model': {'name': 'decisiontree', 'params': {'keep_dims': False, 'max_depth': 14, 'type': 'sklearn'}}}\n",
      "Skipping {'dataset': {'name': 'aljarafe', 'params': {'seq_len': 56, 'pred_len': 24, 'shift': 24, 'select_timesteps': True, 'crossval': True}}, 'selection': {'name': 'NoSelection', 'params': None}, 'model': {'name': 'decisiontree', 'params': {'keep_dims': False, 'max_depth': 14, 'type': 'sklearn'}}}\n",
      "{'dataset': {'name': 'aljarafe', 'params': {'seq_len': 66, 'pred_len': 24, 'shift': 24, 'select_timesteps': True, 'crossval': True}}, 'selection': {'name': 'NoSelection', 'params': None}, 'model': {'name': 'decisiontree', 'params': {'keep_dims': False, 'max_depth': 8, 'type': 'sklearn'}}}\n",
      "Skipping {'dataset': {'name': 'aljarafe', 'params': {'seq_len': 66, 'pred_len': 24, 'shift': 24, 'select_timesteps': True, 'crossval': True}}, 'selection': {'name': 'NoSelection', 'params': None}, 'model': {'name': 'decisiontree', 'params': {'keep_dims': False, 'max_depth': 8, 'type': 'sklearn'}}}\n",
      "{'dataset': {'name': 'aljarafe', 'params': {'seq_len': 56, 'pred_len': 24, 'shift': 24, 'select_timesteps': True, 'crossval': True}}, 'selection': {'name': 'NoSelection', 'params': None}, 'model': {'name': 'decisiontree', 'params': {'keep_dims': False, 'max_depth': 2, 'type': 'sklearn'}}}\n",
      "Skipping {'dataset': {'name': 'aljarafe', 'params': {'seq_len': 56, 'pred_len': 24, 'shift': 24, 'select_timesteps': True, 'crossval': True}}, 'selection': {'name': 'NoSelection', 'params': None}, 'model': {'name': 'decisiontree', 'params': {'keep_dims': False, 'max_depth': 2, 'type': 'sklearn'}}}\n",
      "{'dataset': {'name': 'aljarafe', 'params': {'seq_len': 50, 'pred_len': 24, 'shift': 24, 'select_timesteps': True, 'crossval': True}}, 'selection': {'name': 'NoSelection', 'params': None}, 'model': {'name': 'decisiontree', 'params': {'keep_dims': False, 'max_depth': 14, 'type': 'sklearn'}}}\n",
      "Skipping {'dataset': {'name': 'aljarafe', 'params': {'seq_len': 50, 'pred_len': 24, 'shift': 24, 'select_timesteps': True, 'crossval': True}}, 'selection': {'name': 'NoSelection', 'params': None}, 'model': {'name': 'decisiontree', 'params': {'keep_dims': False, 'max_depth': 14, 'type': 'sklearn'}}}\n",
      "{'dataset': {'name': 'aljarafe', 'params': {'seq_len': 33, 'pred_len': 24, 'shift': 24, 'select_timesteps': True, 'crossval': True}}, 'selection': {'name': 'NoSelection', 'params': None}, 'model': {'name': 'decisiontree', 'params': {'keep_dims': False, 'max_depth': 6, 'type': 'sklearn'}}}\n",
      "Skipping {'dataset': {'name': 'aljarafe', 'params': {'seq_len': 33, 'pred_len': 24, 'shift': 24, 'select_timesteps': True, 'crossval': True}}, 'selection': {'name': 'NoSelection', 'params': None}, 'model': {'name': 'decisiontree', 'params': {'keep_dims': False, 'max_depth': 6, 'type': 'sklearn'}}}\n",
      "{'dataset': {'name': 'aljarafe', 'params': {'seq_len': 58, 'pred_len': 24, 'shift': 24, 'select_timesteps': True, 'crossval': True}}, 'selection': {'name': 'NoSelection', 'params': None}, 'model': {'name': 'lasso', 'params': {'keep_dims': False, 'regularization': 0.417022004702574, 'type': 'sklearn'}}}\n",
      "Skipping {'dataset': {'name': 'aljarafe', 'params': {'seq_len': 58, 'pred_len': 24, 'shift': 24, 'select_timesteps': True, 'crossval': True}}, 'selection': {'name': 'NoSelection', 'params': None}, 'model': {'name': 'lasso', 'params': {'keep_dims': False, 'regularization': 0.417022004702574, 'type': 'sklearn'}}}\n",
      "{'dataset': {'name': 'aljarafe', 'params': {'seq_len': 38, 'pred_len': 24, 'shift': 24, 'select_timesteps': True, 'crossval': True}}, 'selection': {'name': 'NoSelection', 'params': None}, 'model': {'name': 'lasso', 'params': {'keep_dims': False, 'regularization': 0.00011437481734488664, 'type': 'sklearn'}}}\n",
      "Skipping {'dataset': {'name': 'aljarafe', 'params': {'seq_len': 38, 'pred_len': 24, 'shift': 24, 'select_timesteps': True, 'crossval': True}}, 'selection': {'name': 'NoSelection', 'params': None}, 'model': {'name': 'lasso', 'params': {'keep_dims': False, 'regularization': 0.00011437481734488664, 'type': 'sklearn'}}}\n",
      "{'dataset': {'name': 'aljarafe', 'params': {'seq_len': 28, 'pred_len': 24, 'shift': 24, 'select_timesteps': True, 'crossval': True}}, 'selection': {'name': 'NoSelection', 'params': None}, 'model': {'name': 'lasso', 'params': {'keep_dims': False, 'regularization': 0.14675589081711304, 'type': 'sklearn'}}}\n",
      "Skipping {'dataset': {'name': 'aljarafe', 'params': {'seq_len': 28, 'pred_len': 24, 'shift': 24, 'select_timesteps': True, 'crossval': True}}, 'selection': {'name': 'NoSelection', 'params': None}, 'model': {'name': 'lasso', 'params': {'keep_dims': False, 'regularization': 0.14675589081711304, 'type': 'sklearn'}}}\n",
      "{'dataset': {'name': 'aljarafe', 'params': {'seq_len': 40, 'pred_len': 24, 'shift': 24, 'select_timesteps': True, 'crossval': True}}, 'selection': {'name': 'NoSelection', 'params': None}, 'model': {'name': 'lasso', 'params': {'keep_dims': False, 'regularization': 0.1862602113776709, 'type': 'sklearn'}}}\n",
      "Skipping {'dataset': {'name': 'aljarafe', 'params': {'seq_len': 40, 'pred_len': 24, 'shift': 24, 'select_timesteps': True, 'crossval': True}}, 'selection': {'name': 'NoSelection', 'params': None}, 'model': {'name': 'lasso', 'params': {'keep_dims': False, 'regularization': 0.1862602113776709, 'type': 'sklearn'}}}\n",
      "{'dataset': {'name': 'aljarafe', 'params': {'seq_len': 49, 'pred_len': 24, 'shift': 24, 'select_timesteps': True, 'crossval': True}}, 'selection': {'name': 'NoSelection', 'params': None}, 'model': {'name': 'lasso', 'params': {'keep_dims': False, 'regularization': 0.39676747423066994, 'type': 'sklearn'}}}\n",
      "Skipping {'dataset': {'name': 'aljarafe', 'params': {'seq_len': 49, 'pred_len': 24, 'shift': 24, 'select_timesteps': True, 'crossval': True}}, 'selection': {'name': 'NoSelection', 'params': None}, 'model': {'name': 'lasso', 'params': {'keep_dims': False, 'regularization': 0.39676747423066994, 'type': 'sklearn'}}}\n",
      "{'dataset': {'name': 'aljarafe', 'params': {'seq_len': 56, 'pred_len': 24, 'shift': 24, 'select_timesteps': True, 'crossval': True}}, 'selection': {'name': 'NoSelection', 'params': None}, 'model': {'name': 'lasso', 'params': {'keep_dims': False, 'regularization': 0.4191945144032948, 'type': 'sklearn'}}}\n",
      "Skipping {'dataset': {'name': 'aljarafe', 'params': {'seq_len': 56, 'pred_len': 24, 'shift': 24, 'select_timesteps': True, 'crossval': True}}, 'selection': {'name': 'NoSelection', 'params': None}, 'model': {'name': 'lasso', 'params': {'keep_dims': False, 'regularization': 0.4191945144032948, 'type': 'sklearn'}}}\n",
      "{'dataset': {'name': 'aljarafe', 'params': {'seq_len': 66, 'pred_len': 24, 'shift': 24, 'select_timesteps': True, 'crossval': True}}, 'selection': {'name': 'NoSelection', 'params': None}, 'model': {'name': 'lasso', 'params': {'keep_dims': False, 'regularization': 0.20445224973151743, 'type': 'sklearn'}}}\n",
      "Skipping {'dataset': {'name': 'aljarafe', 'params': {'seq_len': 66, 'pred_len': 24, 'shift': 24, 'select_timesteps': True, 'crossval': True}}, 'selection': {'name': 'NoSelection', 'params': None}, 'model': {'name': 'lasso', 'params': {'keep_dims': False, 'regularization': 0.20445224973151743, 'type': 'sklearn'}}}\n",
      "{'dataset': {'name': 'aljarafe', 'params': {'seq_len': 56, 'pred_len': 24, 'shift': 24, 'select_timesteps': True, 'crossval': True}}, 'selection': {'name': 'NoSelection', 'params': None}, 'model': {'name': 'lasso', 'params': {'keep_dims': False, 'regularization': 0.027387593197926163, 'type': 'sklearn'}}}\n",
      "Skipping {'dataset': {'name': 'aljarafe', 'params': {'seq_len': 56, 'pred_len': 24, 'shift': 24, 'select_timesteps': True, 'crossval': True}}, 'selection': {'name': 'NoSelection', 'params': None}, 'model': {'name': 'lasso', 'params': {'keep_dims': False, 'regularization': 0.027387593197926163, 'type': 'sklearn'}}}\n",
      "{'dataset': {'name': 'aljarafe', 'params': {'seq_len': 50, 'pred_len': 24, 'shift': 24, 'select_timesteps': True, 'crossval': True}}, 'selection': {'name': 'NoSelection', 'params': None}, 'model': {'name': 'lasso', 'params': {'keep_dims': False, 'regularization': 0.41730480236712697, 'type': 'sklearn'}}}\n",
      "Skipping {'dataset': {'name': 'aljarafe', 'params': {'seq_len': 50, 'pred_len': 24, 'shift': 24, 'select_timesteps': True, 'crossval': True}}, 'selection': {'name': 'NoSelection', 'params': None}, 'model': {'name': 'lasso', 'params': {'keep_dims': False, 'regularization': 0.41730480236712697, 'type': 'sklearn'}}}\n",
      "{'dataset': {'name': 'aljarafe', 'params': {'seq_len': 33, 'pred_len': 24, 'shift': 24, 'select_timesteps': True, 'crossval': True}}, 'selection': {'name': 'NoSelection', 'params': None}, 'model': {'name': 'lasso', 'params': {'keep_dims': False, 'regularization': 0.14038693859523377, 'type': 'sklearn'}}}\n",
      "Skipping {'dataset': {'name': 'aljarafe', 'params': {'seq_len': 33, 'pred_len': 24, 'shift': 24, 'select_timesteps': True, 'crossval': True}}, 'selection': {'name': 'NoSelection', 'params': None}, 'model': {'name': 'lasso', 'params': {'keep_dims': False, 'regularization': 0.14038693859523377, 'type': 'sklearn'}}}\n",
      "{'dataset': {'name': 'aljarafe', 'params': {'seq_len': 24, 'pred_len': 24, 'shift': 24, 'select_timesteps': True, 'crossval': True}}, 'selection': {'name': 'TimeSelectionLayer', 'params': {'regularization': 0.007206041689487159}}, 'model': {'name': 'dense', 'params': {'keep_dims': False, 'layers': 2, 'units': 80, 'type': 'tensorflow'}}}\n",
      "Skipping {'dataset': {'name': 'aljarafe', 'params': {'seq_len': 24, 'pred_len': 24, 'shift': 24, 'select_timesteps': True, 'crossval': True}}, 'selection': {'name': 'TimeSelectionLayer', 'params': {'regularization': 0.007206041689487159}}, 'model': {'name': 'dense', 'params': {'keep_dims': False, 'layers': 2, 'units': 80, 'type': 'tensorflow'}}}\n",
      "{'dataset': {'name': 'aljarafe', 'params': {'seq_len': 32, 'pred_len': 24, 'shift': 24, 'select_timesteps': True, 'crossval': True}}, 'selection': {'name': 'TimeSelectionLayer', 'params': {'regularization': 0.0009324625617402901}}, 'model': {'name': 'dense', 'params': {'keep_dims': False, 'layers': 1, 'units': 91, 'type': 'tensorflow'}}}\n",
      "Skipping {'dataset': {'name': 'aljarafe', 'params': {'seq_len': 32, 'pred_len': 24, 'shift': 24, 'select_timesteps': True, 'crossval': True}}, 'selection': {'name': 'TimeSelectionLayer', 'params': {'regularization': 0.0009324625617402901}}, 'model': {'name': 'dense', 'params': {'keep_dims': False, 'layers': 1, 'units': 91, 'type': 'tensorflow'}}}\n",
      "{'dataset': {'name': 'aljarafe', 'params': {'seq_len': 44, 'pred_len': 24, 'shift': 24, 'select_timesteps': True, 'crossval': True}}, 'selection': {'name': 'TimeSelectionLayer', 'params': {'regularization': 0.005392779172693536}}, 'model': {'name': 'dense', 'params': {'keep_dims': False, 'layers': 2, 'units': 176, 'type': 'tensorflow'}}}\n",
      "Skipping {'dataset': {'name': 'aljarafe', 'params': {'seq_len': 44, 'pred_len': 24, 'shift': 24, 'select_timesteps': True, 'crossval': True}}, 'selection': {'name': 'TimeSelectionLayer', 'params': {'regularization': 0.005392779172693536}}, 'model': {'name': 'dense', 'params': {'keep_dims': False, 'layers': 2, 'units': 176, 'type': 'tensorflow'}}}\n",
      "{'dataset': {'name': 'aljarafe', 'params': {'seq_len': 25, 'pred_len': 24, 'shift': 24, 'select_timesteps': True, 'crossval': True}}, 'selection': {'name': 'TimeSelectionLayer', 'params': {'regularization': 0.008782393189545545}}, 'model': {'name': 'dense', 'params': {'keep_dims': False, 'layers': 1, 'units': 172, 'type': 'tensorflow'}}}\n",
      "Skipping {'dataset': {'name': 'aljarafe', 'params': {'seq_len': 25, 'pred_len': 24, 'shift': 24, 'select_timesteps': True, 'crossval': True}}, 'selection': {'name': 'TimeSelectionLayer', 'params': {'regularization': 0.008782393189545545}}, 'model': {'name': 'dense', 'params': {'keep_dims': False, 'layers': 1, 'units': 172, 'type': 'tensorflow'}}}\n",
      "{'dataset': {'name': 'aljarafe', 'params': {'seq_len': 30, 'pred_len': 24, 'shift': 24, 'select_timesteps': True, 'crossval': True}}, 'selection': {'name': 'TimeSelectionLayer', 'params': {'regularization': 0.005591311386173059}}, 'model': {'name': 'dense', 'params': {'keep_dims': False, 'layers': 2, 'units': 53, 'type': 'tensorflow'}}}\n",
      "Skipping {'dataset': {'name': 'aljarafe', 'params': {'seq_len': 30, 'pred_len': 24, 'shift': 24, 'select_timesteps': True, 'crossval': True}}, 'selection': {'name': 'TimeSelectionLayer', 'params': {'regularization': 0.005591311386173059}}, 'model': {'name': 'dense', 'params': {'keep_dims': False, 'layers': 2, 'units': 53, 'type': 'tensorflow'}}}\n",
      "{'dataset': {'name': 'aljarafe', 'params': {'seq_len': 39, 'pred_len': 24, 'shift': 24, 'select_timesteps': True, 'crossval': True}}, 'selection': {'name': 'TimeSelectionLayer', 'params': {'regularization': 0.009682933141436782}}, 'model': {'name': 'dense', 'params': {'keep_dims': False, 'layers': 4, 'units': 178, 'type': 'tensorflow'}}}\n",
      "Skipping {'dataset': {'name': 'aljarafe', 'params': {'seq_len': 39, 'pred_len': 24, 'shift': 24, 'select_timesteps': True, 'crossval': True}}, 'selection': {'name': 'TimeSelectionLayer', 'params': {'regularization': 0.009682933141436782}}, 'model': {'name': 'dense', 'params': {'keep_dims': False, 'layers': 4, 'units': 178, 'type': 'tensorflow'}}}\n",
      "{'dataset': {'name': 'aljarafe', 'params': {'seq_len': 28, 'pred_len': 24, 'shift': 24, 'select_timesteps': True, 'crossval': True}}, 'selection': {'name': 'TimeSelectionLayer', 'params': {'regularization': 0.008947120568403435}}, 'model': {'name': 'dense', 'params': {'keep_dims': False, 'layers': 4, 'units': 13, 'type': 'tensorflow'}}}\n",
      "Skipping {'dataset': {'name': 'aljarafe', 'params': {'seq_len': 28, 'pred_len': 24, 'shift': 24, 'select_timesteps': True, 'crossval': True}}, 'selection': {'name': 'TimeSelectionLayer', 'params': {'regularization': 0.008947120568403435}}, 'model': {'name': 'dense', 'params': {'keep_dims': False, 'layers': 4, 'units': 13, 'type': 'tensorflow'}}}\n",
      "{'dataset': {'name': 'aljarafe', 'params': {'seq_len': 28, 'pred_len': 24, 'shift': 24, 'select_timesteps': True, 'crossval': True}}, 'selection': {'name': 'TimeSelectionLayer', 'params': {'regularization': 0.008782643609259837}}, 'model': {'name': 'dense', 'params': {'keep_dims': False, 'layers': 1, 'units': 110, 'type': 'tensorflow'}}}\n",
      "Skipping {'dataset': {'name': 'aljarafe', 'params': {'seq_len': 28, 'pred_len': 24, 'shift': 24, 'select_timesteps': True, 'crossval': True}}, 'selection': {'name': 'TimeSelectionLayer', 'params': {'regularization': 0.008782643609259837}}, 'model': {'name': 'dense', 'params': {'keep_dims': False, 'layers': 1, 'units': 110, 'type': 'tensorflow'}}}\n",
      "{'dataset': {'name': 'aljarafe', 'params': {'seq_len': 57, 'pred_len': 24, 'shift': 24, 'select_timesteps': True, 'crossval': True}}, 'selection': {'name': 'TimeSelectionLayer', 'params': {'regularization': 0.0053363211968804405}}, 'model': {'name': 'dense', 'params': {'keep_dims': False, 'layers': 4, 'units': 83, 'type': 'tensorflow'}}}\n",
      "Skipping {'dataset': {'name': 'aljarafe', 'params': {'seq_len': 57, 'pred_len': 24, 'shift': 24, 'select_timesteps': True, 'crossval': True}}, 'selection': {'name': 'TimeSelectionLayer', 'params': {'regularization': 0.0053363211968804405}}, 'model': {'name': 'dense', 'params': {'keep_dims': False, 'layers': 4, 'units': 83, 'type': 'tensorflow'}}}\n",
      "{'dataset': {'name': 'aljarafe', 'params': {'seq_len': 24, 'pred_len': 24, 'shift': 24, 'select_timesteps': True, 'crossval': True}}, 'selection': {'name': 'TimeSelectionLayer', 'params': {'regularization': 0.008347910462254755}}, 'model': {'name': 'dense', 'params': {'keep_dims': False, 'layers': 3, 'units': 193, 'type': 'tensorflow'}}}\n",
      "Skipping {'dataset': {'name': 'aljarafe', 'params': {'seq_len': 24, 'pred_len': 24, 'shift': 24, 'select_timesteps': True, 'crossval': True}}, 'selection': {'name': 'TimeSelectionLayer', 'params': {'regularization': 0.008347910462254755}}, 'model': {'name': 'dense', 'params': {'keep_dims': False, 'layers': 3, 'units': 193, 'type': 'tensorflow'}}}\n",
      "{'dataset': {'name': 'aljarafe', 'params': {'seq_len': 24, 'pred_len': 24, 'shift': 24, 'select_timesteps': True, 'crossval': True}}, 'selection': {'name': 'TimeSelectionLayer', 'params': {'regularization': 0.007206041689487159}}, 'model': {'name': 'lstm', 'params': {'keep_dims': True, 'layers': 2, 'units': 80, 'type': 'tensorflow'}}}\n",
      "Skipping {'dataset': {'name': 'aljarafe', 'params': {'seq_len': 24, 'pred_len': 24, 'shift': 24, 'select_timesteps': True, 'crossval': True}}, 'selection': {'name': 'TimeSelectionLayer', 'params': {'regularization': 0.007206041689487159}}, 'model': {'name': 'lstm', 'params': {'keep_dims': True, 'layers': 2, 'units': 80, 'type': 'tensorflow'}}}\n",
      "{'dataset': {'name': 'aljarafe', 'params': {'seq_len': 32, 'pred_len': 24, 'shift': 24, 'select_timesteps': True, 'crossval': True}}, 'selection': {'name': 'TimeSelectionLayer', 'params': {'regularization': 0.0009324625617402901}}, 'model': {'name': 'lstm', 'params': {'keep_dims': True, 'layers': 1, 'units': 91, 'type': 'tensorflow'}}}\n",
      "Skipping {'dataset': {'name': 'aljarafe', 'params': {'seq_len': 32, 'pred_len': 24, 'shift': 24, 'select_timesteps': True, 'crossval': True}}, 'selection': {'name': 'TimeSelectionLayer', 'params': {'regularization': 0.0009324625617402901}}, 'model': {'name': 'lstm', 'params': {'keep_dims': True, 'layers': 1, 'units': 91, 'type': 'tensorflow'}}}\n",
      "{'dataset': {'name': 'aljarafe', 'params': {'seq_len': 44, 'pred_len': 24, 'shift': 24, 'select_timesteps': True, 'crossval': True}}, 'selection': {'name': 'TimeSelectionLayer', 'params': {'regularization': 0.005392779172693536}}, 'model': {'name': 'lstm', 'params': {'keep_dims': True, 'layers': 2, 'units': 176, 'type': 'tensorflow'}}}\n",
      "Skipping {'dataset': {'name': 'aljarafe', 'params': {'seq_len': 44, 'pred_len': 24, 'shift': 24, 'select_timesteps': True, 'crossval': True}}, 'selection': {'name': 'TimeSelectionLayer', 'params': {'regularization': 0.005392779172693536}}, 'model': {'name': 'lstm', 'params': {'keep_dims': True, 'layers': 2, 'units': 176, 'type': 'tensorflow'}}}\n",
      "{'dataset': {'name': 'aljarafe', 'params': {'seq_len': 25, 'pred_len': 24, 'shift': 24, 'select_timesteps': True, 'crossval': True}}, 'selection': {'name': 'TimeSelectionLayer', 'params': {'regularization': 0.008782393189545545}}, 'model': {'name': 'lstm', 'params': {'keep_dims': True, 'layers': 1, 'units': 172, 'type': 'tensorflow'}}}\n",
      "Skipping {'dataset': {'name': 'aljarafe', 'params': {'seq_len': 25, 'pred_len': 24, 'shift': 24, 'select_timesteps': True, 'crossval': True}}, 'selection': {'name': 'TimeSelectionLayer', 'params': {'regularization': 0.008782393189545545}}, 'model': {'name': 'lstm', 'params': {'keep_dims': True, 'layers': 1, 'units': 172, 'type': 'tensorflow'}}}\n",
      "{'dataset': {'name': 'aljarafe', 'params': {'seq_len': 30, 'pred_len': 24, 'shift': 24, 'select_timesteps': True, 'crossval': True}}, 'selection': {'name': 'TimeSelectionLayer', 'params': {'regularization': 0.005591311386173059}}, 'model': {'name': 'lstm', 'params': {'keep_dims': True, 'layers': 2, 'units': 53, 'type': 'tensorflow'}}}\n",
      "Skipping {'dataset': {'name': 'aljarafe', 'params': {'seq_len': 30, 'pred_len': 24, 'shift': 24, 'select_timesteps': True, 'crossval': True}}, 'selection': {'name': 'TimeSelectionLayer', 'params': {'regularization': 0.005591311386173059}}, 'model': {'name': 'lstm', 'params': {'keep_dims': True, 'layers': 2, 'units': 53, 'type': 'tensorflow'}}}\n",
      "{'dataset': {'name': 'aljarafe', 'params': {'seq_len': 39, 'pred_len': 24, 'shift': 24, 'select_timesteps': True, 'crossval': True}}, 'selection': {'name': 'TimeSelectionLayer', 'params': {'regularization': 0.009682933141436782}}, 'model': {'name': 'lstm', 'params': {'keep_dims': True, 'layers': 4, 'units': 178, 'type': 'tensorflow'}}}\n",
      "Skipping {'dataset': {'name': 'aljarafe', 'params': {'seq_len': 39, 'pred_len': 24, 'shift': 24, 'select_timesteps': True, 'crossval': True}}, 'selection': {'name': 'TimeSelectionLayer', 'params': {'regularization': 0.009682933141436782}}, 'model': {'name': 'lstm', 'params': {'keep_dims': True, 'layers': 4, 'units': 178, 'type': 'tensorflow'}}}\n",
      "{'dataset': {'name': 'aljarafe', 'params': {'seq_len': 28, 'pred_len': 24, 'shift': 24, 'select_timesteps': True, 'crossval': True}}, 'selection': {'name': 'TimeSelectionLayer', 'params': {'regularization': 0.008947120568403435}}, 'model': {'name': 'lstm', 'params': {'keep_dims': True, 'layers': 4, 'units': 13, 'type': 'tensorflow'}}}\n",
      "Skipping {'dataset': {'name': 'aljarafe', 'params': {'seq_len': 28, 'pred_len': 24, 'shift': 24, 'select_timesteps': True, 'crossval': True}}, 'selection': {'name': 'TimeSelectionLayer', 'params': {'regularization': 0.008947120568403435}}, 'model': {'name': 'lstm', 'params': {'keep_dims': True, 'layers': 4, 'units': 13, 'type': 'tensorflow'}}}\n",
      "{'dataset': {'name': 'aljarafe', 'params': {'seq_len': 28, 'pred_len': 24, 'shift': 24, 'select_timesteps': True, 'crossval': True}}, 'selection': {'name': 'TimeSelectionLayer', 'params': {'regularization': 0.008782643609259837}}, 'model': {'name': 'lstm', 'params': {'keep_dims': True, 'layers': 1, 'units': 110, 'type': 'tensorflow'}}}\n",
      "Skipping {'dataset': {'name': 'aljarafe', 'params': {'seq_len': 28, 'pred_len': 24, 'shift': 24, 'select_timesteps': True, 'crossval': True}}, 'selection': {'name': 'TimeSelectionLayer', 'params': {'regularization': 0.008782643609259837}}, 'model': {'name': 'lstm', 'params': {'keep_dims': True, 'layers': 1, 'units': 110, 'type': 'tensorflow'}}}\n",
      "{'dataset': {'name': 'aljarafe', 'params': {'seq_len': 57, 'pred_len': 24, 'shift': 24, 'select_timesteps': True, 'crossval': True}}, 'selection': {'name': 'TimeSelectionLayer', 'params': {'regularization': 0.0053363211968804405}}, 'model': {'name': 'lstm', 'params': {'keep_dims': True, 'layers': 4, 'units': 83, 'type': 'tensorflow'}}}\n",
      "Skipping {'dataset': {'name': 'aljarafe', 'params': {'seq_len': 57, 'pred_len': 24, 'shift': 24, 'select_timesteps': True, 'crossval': True}}, 'selection': {'name': 'TimeSelectionLayer', 'params': {'regularization': 0.0053363211968804405}}, 'model': {'name': 'lstm', 'params': {'keep_dims': True, 'layers': 4, 'units': 83, 'type': 'tensorflow'}}}\n",
      "{'dataset': {'name': 'aljarafe', 'params': {'seq_len': 24, 'pred_len': 24, 'shift': 24, 'select_timesteps': True, 'crossval': True}}, 'selection': {'name': 'TimeSelectionLayer', 'params': {'regularization': 0.008347910462254755}}, 'model': {'name': 'lstm', 'params': {'keep_dims': True, 'layers': 3, 'units': 193, 'type': 'tensorflow'}}}\n",
      "12/12 [==============================] - 0s 20ms/step\n",
      "12/12 [==============================] - 0s 20ms/step\n"
     ]
    }
   ],
   "source": [
    "experiment_launcher.run()                   "
   ]
  },
  {
   "cell_type": "code",
   "execution_count": null,
   "metadata": {},
   "outputs": [],
   "source": []
  },
  {
   "cell_type": "code",
   "execution_count": null,
   "metadata": {},
   "outputs": [],
   "source": []
  }
 ],
 "metadata": {
  "kernelspec": {
   "display_name": "tf",
   "language": "python",
   "name": "python3"
  },
  "language_info": {
   "codemirror_mode": {
    "name": "ipython",
    "version": 3
   },
   "file_extension": ".py",
   "mimetype": "text/x-python",
   "name": "python",
   "nbconvert_exporter": "python",
   "pygments_lexer": "ipython3",
   "version": "3.8.13"
  },
  "orig_nbformat": 4,
  "vscode": {
   "interpreter": {
    "hash": "22807ea436e6cdae465455f971bf54617413f450d50428723b8098b2ed287910"
   }
  }
 },
 "nbformat": 4,
 "nbformat_minor": 2
}
