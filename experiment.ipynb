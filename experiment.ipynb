{
 "cells": [
  {
   "cell_type": "code",
   "execution_count": 1,
   "metadata": {},
   "outputs": [],
   "source": [
    "from src.experiment import ExperimentLauncher"
   ]
  },
  {
   "cell_type": "code",
   "execution_count": 2,
   "metadata": {
    "scrolled": true,
    "tags": []
   },
   "outputs": [
    {
     "data": {
      "text/html": [
       "<div>\n",
       "<style scoped>\n",
       "    .dataframe tbody tr th:only-of-type {\n",
       "        vertical-align: middle;\n",
       "    }\n",
       "\n",
       "    .dataframe tbody tr th {\n",
       "        vertical-align: top;\n",
       "    }\n",
       "\n",
       "    .dataframe thead th {\n",
       "        text-align: right;\n",
       "    }\n",
       "</style>\n",
       "<table border=\"1\" class=\"dataframe\">\n",
       "  <thead>\n",
       "    <tr style=\"text-align: right;\">\n",
       "      <th></th>\n",
       "      <th>mean_squared_error</th>\n",
       "      <th>root_mean_squared_error</th>\n",
       "      <th>mean_absolute_error</th>\n",
       "      <th>mean_absolute_percentage_error</th>\n",
       "      <th>r2</th>\n",
       "      <th>mean_absolute_error_valid</th>\n",
       "      <th>root_mean_squared_error_valid</th>\n",
       "      <th>mean_squared_error_valid</th>\n",
       "      <th>dataset</th>\n",
       "      <th>dataset_name</th>\n",
       "      <th>...</th>\n",
       "      <th>selection_name</th>\n",
       "      <th>selection_params</th>\n",
       "      <th>model_name</th>\n",
       "      <th>model_params_max_depth</th>\n",
       "      <th>model_params_n_estimators</th>\n",
       "      <th>model_params_type</th>\n",
       "      <th>features</th>\n",
       "      <th>selected_features</th>\n",
       "      <th>duration</th>\n",
       "      <th>code</th>\n",
       "    </tr>\n",
       "  </thead>\n",
       "  <tbody>\n",
       "    <tr>\n",
       "      <th>0</th>\n",
       "      <td>974.411205</td>\n",
       "      <td>31.215560</td>\n",
       "      <td>24.649897</td>\n",
       "      <td>1.422401e+13</td>\n",
       "      <td>-0.973243</td>\n",
       "      <td>23.515863</td>\n",
       "      <td>31.360784</td>\n",
       "      <td>983.498802</td>\n",
       "      <td>torneo</td>\n",
       "      <td>torneo</td>\n",
       "      <td>...</td>\n",
       "      <td>NoSelection</td>\n",
       "      <td>None</td>\n",
       "      <td>customboosting</td>\n",
       "      <td>3</td>\n",
       "      <td>50</td>\n",
       "      <td>sklearn</td>\n",
       "      <td>[dd t-24, tmp t-24, vv t-24, pm10 t-24, no2 t-...</td>\n",
       "      <td>[dd t-24, tmp t-24, vv t-24, pm10 t-24, no2 t-...</td>\n",
       "      <td>4.095408</td>\n",
       "      <td>42564dab24b5a7776f5317be771d2a1f</td>\n",
       "    </tr>\n",
       "    <tr>\n",
       "      <th>0</th>\n",
       "      <td>1112.610969</td>\n",
       "      <td>33.355824</td>\n",
       "      <td>26.071399</td>\n",
       "      <td>1.882749e+13</td>\n",
       "      <td>-1.254857</td>\n",
       "      <td>24.795467</td>\n",
       "      <td>32.622140</td>\n",
       "      <td>1064.204033</td>\n",
       "      <td>torneo</td>\n",
       "      <td>torneo</td>\n",
       "      <td>...</td>\n",
       "      <td>NoSelection</td>\n",
       "      <td>None</td>\n",
       "      <td>customboosting</td>\n",
       "      <td>3</td>\n",
       "      <td>100</td>\n",
       "      <td>sklearn</td>\n",
       "      <td>[dd t-24, tmp t-24, vv t-24, pm10 t-24, no2 t-...</td>\n",
       "      <td>[dd t-24, tmp t-24, vv t-24, pm10 t-24, no2 t-...</td>\n",
       "      <td>8.126822</td>\n",
       "      <td>83b57af1170348d83cf66b0b1f4f4ccd</td>\n",
       "    </tr>\n",
       "    <tr>\n",
       "      <th>0</th>\n",
       "      <td>974.411205</td>\n",
       "      <td>31.215560</td>\n",
       "      <td>24.649897</td>\n",
       "      <td>1.422401e+13</td>\n",
       "      <td>-0.973243</td>\n",
       "      <td>23.515863</td>\n",
       "      <td>31.360784</td>\n",
       "      <td>983.498802</td>\n",
       "      <td>torneo</td>\n",
       "      <td>torneo</td>\n",
       "      <td>...</td>\n",
       "      <td>NoSelection</td>\n",
       "      <td>None</td>\n",
       "      <td>customboosting</td>\n",
       "      <td>5</td>\n",
       "      <td>50</td>\n",
       "      <td>sklearn</td>\n",
       "      <td>[dd t-24, tmp t-24, vv t-24, pm10 t-24, no2 t-...</td>\n",
       "      <td>[dd t-24, tmp t-24, vv t-24, pm10 t-24, no2 t-...</td>\n",
       "      <td>4.079543</td>\n",
       "      <td>dbe3b16d537553d4387cc715c551fece</td>\n",
       "    </tr>\n",
       "  </tbody>\n",
       "</table>\n",
       "<p>3 rows × 24 columns</p>\n",
       "</div>"
      ],
      "text/plain": [
       "   mean_squared_error  root_mean_squared_error  mean_absolute_error  \\\n",
       "0          974.411205                31.215560            24.649897   \n",
       "0         1112.610969                33.355824            26.071399   \n",
       "0          974.411205                31.215560            24.649897   \n",
       "\n",
       "   mean_absolute_percentage_error        r2  mean_absolute_error_valid  \\\n",
       "0                    1.422401e+13 -0.973243                  23.515863   \n",
       "0                    1.882749e+13 -1.254857                  24.795467   \n",
       "0                    1.422401e+13 -0.973243                  23.515863   \n",
       "\n",
       "   root_mean_squared_error_valid  mean_squared_error_valid dataset  \\\n",
       "0                      31.360784                983.498802  torneo   \n",
       "0                      32.622140               1064.204033  torneo   \n",
       "0                      31.360784                983.498802  torneo   \n",
       "\n",
       "  dataset_name  ...  selection_name  selection_params      model_name  \\\n",
       "0       torneo  ...     NoSelection              None  customboosting   \n",
       "0       torneo  ...     NoSelection              None  customboosting   \n",
       "0       torneo  ...     NoSelection              None  customboosting   \n",
       "\n",
       "   model_params_max_depth model_params_n_estimators model_params_type  \\\n",
       "0                       3                        50           sklearn   \n",
       "0                       3                       100           sklearn   \n",
       "0                       5                        50           sklearn   \n",
       "\n",
       "                                            features  \\\n",
       "0  [dd t-24, tmp t-24, vv t-24, pm10 t-24, no2 t-...   \n",
       "0  [dd t-24, tmp t-24, vv t-24, pm10 t-24, no2 t-...   \n",
       "0  [dd t-24, tmp t-24, vv t-24, pm10 t-24, no2 t-...   \n",
       "\n",
       "                                   selected_features  duration  \\\n",
       "0  [dd t-24, tmp t-24, vv t-24, pm10 t-24, no2 t-...  4.095408   \n",
       "0  [dd t-24, tmp t-24, vv t-24, pm10 t-24, no2 t-...  8.126822   \n",
       "0  [dd t-24, tmp t-24, vv t-24, pm10 t-24, no2 t-...  4.079543   \n",
       "\n",
       "                               code  \n",
       "0  42564dab24b5a7776f5317be771d2a1f  \n",
       "0  83b57af1170348d83cf66b0b1f4f4ccd  \n",
       "0  dbe3b16d537553d4387cc715c551fece  \n",
       "\n",
       "[3 rows x 24 columns]"
      ]
     },
     "metadata": {},
     "output_type": "display_data"
    },
    {
     "name": "stdout",
     "output_type": "stream",
     "text": [
      "{'dataset': {'name': 'torneo', 'params': {'seq_len': 24, 'pred_len': 24, 'shift': 24, 'crossval': False}}, 'selection': {'name': 'NoSelection', 'params': None}, 'model': {'name': 'customboosting', 'params': {'max_depth': 5, 'n_estimators': 100, 'type': 'sklearn'}}}\n"
     ]
    },
    {
     "ename": "",
     "evalue": "",
     "output_type": "error",
     "traceback": [
      "\u001b[1;31mThe Kernel crashed while executing code in the the current cell or a previous cell. Please review the code in the cell(s) to identify a possible cause of the failure. Click <a href='https://aka.ms/vscodeJupyterKernelCrash'>here</a> for more info. View Jupyter <a href='command:jupyter.viewOutput'>log</a> for further details."
     ]
    }
   ],
   "source": [
    "config_path = 'configuration/pruebas/'\n",
    "# experiment_launcher = ExperimentLauncher(config_path, save_file='results/pruebas/results_nn_optimizing_bs_and_lr.csv', search_type='bayesian', iterations=25)\n",
    "experiment_launcher = ExperimentLauncher(config_path, save_file='results/pruebas/test.csv', search_type='grid')\n",
    "experiment_launcher.run()"
   ]
  },
  {
   "cell_type": "code",
   "execution_count": 3,
   "metadata": {
    "scrolled": true,
    "tags": []
   },
   "outputs": [
    {
     "data": {
      "text/plain": [
       "\"config_path_residual = 'configuration/OzoneCrossvalRes/'\\nexperiment_launcher_residual = ExperimentLauncher(config_path_residual, save_file='results/OzoneCrossVal/results_final.csv', search_type='bayesian', iterations=25)\\nexperiment_launcher_residual.run()        \""
      ]
     },
     "execution_count": 3,
     "metadata": {},
     "output_type": "execute_result"
    }
   ],
   "source": [
    "\"\"\"config_path_residual = 'configuration/OzoneCrossvalRes/'\n",
    "experiment_launcher_residual = ExperimentLauncher(config_path_residual, save_file='results/OzoneCrossVal/results_final.csv', search_type='bayesian', iterations=25)\n",
    "experiment_launcher_residual.run()        \"\"\"           "
   ]
  },
  {
   "cell_type": "code",
   "execution_count": null,
   "metadata": {},
   "outputs": [],
   "source": []
  }
 ],
 "metadata": {
  "kernelspec": {
   "display_name": "Python 3 (ipykernel)",
   "language": "python",
   "name": "python3"
  },
  "language_info": {
   "codemirror_mode": {
    "name": "ipython",
    "version": 3
   },
   "file_extension": ".py",
   "mimetype": "text/x-python",
   "name": "python",
   "nbconvert_exporter": "python",
   "pygments_lexer": "ipython3",
   "version": "3.8.13"
  },
  "vscode": {
   "interpreter": {
    "hash": "22807ea436e6cdae465455f971bf54617413f450d50428723b8098b2ed287910"
   }
  }
 },
 "nbformat": 4,
 "nbformat_minor": 4
}
